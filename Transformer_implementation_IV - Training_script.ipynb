{
  "nbformat": 4,
  "nbformat_minor": 0,
  "metadata": {
    "colab": {
      "provenance": [],
      "gpuType": "T4",
      "authorship_tag": "ABX9TyPcneUXSb4cn5A+v25bOARr",
      "include_colab_link": true
    },
    "kernelspec": {
      "name": "python3",
      "display_name": "Python 3"
    },
    "language_info": {
      "name": "python"
    },
    "accelerator": "GPU"
  },
  "cells": [
    {
      "cell_type": "markdown",
      "metadata": {
        "id": "view-in-github",
        "colab_type": "text"
      },
      "source": [
        "<a href=\"https://colab.research.google.com/github/durml91/Personal/blob/main/Transformer_implementation_IV%20-%20Training_script.ipynb\" target=\"_parent\"><img src=\"https://colab.research.google.com/assets/colab-badge.svg\" alt=\"Open In Colab\"/></a>"
      ]
    },
    {
      "cell_type": "markdown",
      "source": [
        "# **Basic Transformer (Encoder-Decoder) Implementation**"
      ],
      "metadata": {
        "id": "E0Fb9_WFlx9S"
      }
    },
    {
      "cell_type": "markdown",
      "source": [
        "## Installs and Imports"
      ],
      "metadata": {
        "id": "DTp1uP3Bl8mk"
      }
    },
    {
      "cell_type": "markdown",
      "source": [
        "*Nvidia CUDA version check*"
      ],
      "metadata": {
        "id": "Nnep2ZGcgnGC"
      }
    },
    {
      "cell_type": "code",
      "source": [
        "# !nvcc --version\n",
        "# !cat /usr/local/cuda/version.txt\n",
        "# !cat /usr/include/x86_64-linux-gnu/cudnn_v*.h | grep CUDNN_MAJOR -A 2"
      ],
      "metadata": {
        "id": "sPV3QWxdc3kH"
      },
      "execution_count": null,
      "outputs": []
    },
    {
      "cell_type": "markdown",
      "source": [
        "**Install datasets before updating JAX**"
      ],
      "metadata": {
        "id": "1SmdbV4FmBYA"
      }
    },
    {
      "cell_type": "code",
      "source": [
        "!pip install datasets[jax]\n",
        "!pip install tokenizers\n",
        "!pip install transformers\n",
        "!pip install einops\n",
        "!pip install equinox\n",
        "!pip install torchmetrics"
      ],
      "metadata": {
        "id": "AtfVbSgemT53"
      },
      "execution_count": null,
      "outputs": []
    },
    {
      "cell_type": "code",
      "source": [
        "!pip install jaxlib==0.4.13+cuda11.cudnn86 -f  https://storage.googleapis.com/jax-releases/jax_cuda_releases.html # [cuda]\n",
        "\n",
        "#!pip install -U jax jaxlib # [cpu]"
      ],
      "metadata": {
        "id": "b-qT1_q-fG9T"
      },
      "execution_count": null,
      "outputs": []
    },
    {
      "cell_type": "markdown",
      "source": [
        "*Restart runtime here!*"
      ],
      "metadata": {
        "id": "0vDHzk5ymU-V"
      }
    },
    {
      "cell_type": "code",
      "execution_count": null,
      "metadata": {
        "id": "IgYFrPvSpbjk"
      },
      "outputs": [],
      "source": [
        "import jax\n",
        "import jax.random as jr\n",
        "import jax.numpy as jnp\n",
        "\n",
        "import einops\n",
        "\n",
        "import equinox as eqx\n",
        "\n",
        "import optax\n",
        "\n",
        "import tqdm\n",
        "from tqdm import notebook as tqdm\n",
        "\n",
        "import functools\n",
        "\n",
        "from typing import Dict, List, Mapping, Optional, Callable\n",
        "from jaxtyping import Array, Float, Int\n",
        "\n",
        "import math\n",
        "\n",
        "import numpy as np\n",
        "\n",
        "import datasets\n",
        "from datasets import load_dataset\n",
        "\n",
        "from tokenizers import Tokenizer\n",
        "from tokenizers.models import WordLevel\n",
        "from tokenizers.trainers import WordLevelTrainer\n",
        "from tokenizers.pre_tokenizers import Whitespace\n",
        "\n",
        "from pathlib import Path\n",
        "\n",
        "from matplotlib.pylab import plt\n",
        "\n",
        "from torchmetrics.text import WordErrorRate, CharErrorRate, BLEUScore\n",
        "from torch.utils import data\n",
        "\n",
        "from pickle import dump, load\n",
        "import shutil\n",
        "from google.colab import drive\n",
        "drive.mount('/content/gdrive')"
      ]
    },
    {
      "cell_type": "markdown",
      "source": [
        "*Check VM is using GPU accelerator*"
      ],
      "metadata": {
        "id": "svWX2qPyhPsd"
      }
    },
    {
      "cell_type": "code",
      "source": [
        "jax.default_backend()"
      ],
      "metadata": {
        "colab": {
          "base_uri": "https://localhost:8080/",
          "height": 36
        },
        "id": "kG9vgAmUbj-l",
        "outputId": "b39e862b-aabd-4c38-d12f-bb6d0c9203b5"
      },
      "execution_count": null,
      "outputs": [
        {
          "output_type": "execute_result",
          "data": {
            "text/plain": [
              "'gpu'"
            ],
            "application/vnd.google.colaboratory.intrinsic+json": {
              "type": "string"
            }
          },
          "metadata": {},
          "execution_count": 2
        }
      ]
    },
    {
      "cell_type": "markdown",
      "source": [
        "**Random key generation**"
      ],
      "metadata": {
        "id": "o-t84lDvmrRr"
      }
    },
    {
      "cell_type": "code",
      "source": [
        "rand_key = jr.PRNGKey(2023)"
      ],
      "metadata": {
        "id": "52URpWXEprjm"
      },
      "execution_count": null,
      "outputs": []
    },
    {
      "cell_type": "markdown",
      "source": [
        "### Transformer"
      ],
      "metadata": {
        "id": "P6oW6sooqpX1"
      }
    },
    {
      "cell_type": "markdown",
      "source": [
        "**Generic equinox module for GELU**"
      ],
      "metadata": {
        "id": "zokOJ5im3RfR"
      }
    },
    {
      "cell_type": "code",
      "source": [
        "class Lambda(eqx.Module):\n",
        "\n",
        "    fn: Callable\n",
        "\n",
        "    def __call__(self, x, *, key=None):\n",
        "        return self.fn(x)"
      ],
      "metadata": {
        "id": "kKw12VA93Q1s"
      },
      "execution_count": null,
      "outputs": []
    },
    {
      "cell_type": "markdown",
      "source": [
        "**Attention**"
      ],
      "metadata": {
        "id": "ZX585wtq5F0x"
      }
    },
    {
      "cell_type": "code",
      "source": [
        "class AttentionBlock(eqx.Module):\n",
        "\n",
        "    attention: eqx.nn.MultiheadAttention\n",
        "    dropout: eqx.nn.Dropout\n",
        "    num_heads: int = eqx.field(static=True)\n",
        "\n",
        "    def __init__(\n",
        "        self,\n",
        "        d_model: int,\n",
        "        num_heads: int,\n",
        "        dropout_rate: float,\n",
        "        attention_dropout_rate: float,\n",
        "        key: jr.PRNGKey\n",
        "    ):\n",
        "        self.num_heads = num_heads\n",
        "        self.attention = eqx.nn.MultiheadAttention(\n",
        "            num_heads=num_heads,\n",
        "            query_size=d_model,\n",
        "            use_query_bias=True,\n",
        "            use_key_bias=True,\n",
        "            use_value_bias=True,\n",
        "            use_output_bias=True,\n",
        "            dropout_p=attention_dropout_rate,\n",
        "            key=key,\n",
        "        )\n",
        "\n",
        "        self.dropout = eqx.nn.Dropout(dropout_rate)\n",
        "\n",
        "    @eqx.filter_jit\n",
        "    def causal_attention_mask(self, q_shape, kv_shape, pad: bool):\n",
        "        if pad == True:\n",
        "            #print(\"causal - padding\")\n",
        "            mask = jnp.ones((q_shape, kv_shape), dtype=float)\n",
        "            mask = jnp.tril(mask, k=0)\n",
        "            return mask == 1\n",
        "        else:\n",
        "            #print(\"causal - no padding\")\n",
        "            mask = jnp.ones((q_shape, kv_shape), dtype=float)\n",
        "            mask = jnp.tril(mask, k=0) == 1\n",
        "            mask = jnp.expand_dims(mask, axis=-3)\n",
        "            mask = jnp.where(mask, 1.0, 0.0)\n",
        "            return jnp.repeat(mask, repeats=self.num_heads, axis=-3)\n",
        "\n",
        "\n",
        "    @eqx.filter_jit\n",
        "    def make_attention_mask(\n",
        "        self, q_pad_mask: Array = jnp.array(()), kv_pad_mask: Array = jnp.array(()), look_ahead_mask: bool = False, inf_shape: int = None\n",
        "    ) -> Float[Array, \"num_heads query_seq_len kv_seq_len\"]:\n",
        "\n",
        "        if q_pad_mask is None:\n",
        "            #print(\"cross attn for inf\")\n",
        "            mask = einops.repeat(kv_pad_mask, \" a b -> (a q) b\", q = inf_shape)\n",
        "            mask = jnp.where(mask, 1.0, 0.0)\n",
        "            mask = jnp.expand_dims(mask, axis=-3)\n",
        "            mask = jnp.repeat(mask, repeats=self.num_heads, axis=-3)\n",
        "            return mask\n",
        "\n",
        "        # creates rectangular padding with q_pad_mask on the vertical and kv_pad_mask on the horizontal!\n",
        "        padding_mask = jnp.multiply(jnp.expand_dims(q_pad_mask, axis=-1), jnp.expand_dims(kv_pad_mask, axis=-2))\n",
        "        p_mask = jnp.where(padding_mask, 1.0, 0.0)\n",
        "        p_mask = jnp.repeat(p_mask, repeats=self.num_heads, axis=-3)\n",
        "        if look_ahead_mask is True:\n",
        "            q_shape = q_pad_mask.shape[-1]\n",
        "            kv_shape = kv_pad_mask.shape[-1]\n",
        "            cross_attn_mask = padding_mask & jnp.expand_dims(self.causal_attention_mask(q_shape, kv_shape, pad = True), axis=-3)\n",
        "            cross_attn_mask = jnp.where(cross_attn_mask, 1.0, 0.0)\n",
        "            cross_attn_mask = jnp.repeat(cross_attn_mask, repeats=self.num_heads, axis=-3)\n",
        "            return cross_attn_mask   # .astype(jnp.float32)\n",
        "        else:\n",
        "            return p_mask  # .astype(jnp.float32)\n",
        "\n",
        "    def __call__(\n",
        "        self,\n",
        "        query: Float[Array, \"... d_model\"],\n",
        "        key_: Float[Array, \"... d_model\"],\n",
        "        value: Float[Array, \"... d_model\"],\n",
        "        q_pad_mask: Array = None,\n",
        "        kv_pad_mask: Array = None,\n",
        "        look_ahead_mask: bool = False,\n",
        "        enable_dropout: bool = False,\n",
        "        key: \"jr.PRNGKey\" = None,\n",
        "    ) -> Float[Array, \"... d_model\"]:\n",
        "\n",
        "\n",
        "        if q_pad_mask is not None and kv_pad_mask is not None:\n",
        "            #print(\"train\")\n",
        "            mask = self.make_attention_mask(q_pad_mask, kv_pad_mask, look_ahead_mask)\n",
        "        elif q_pad_mask is None and look_ahead_mask == True:\n",
        "            #print(\"self_attn - inference\")\n",
        "            mask = self.causal_attention_mask(query.shape[-2], key_.shape[-2], pad = False)\n",
        "        elif q_pad_mask is None and kv_pad_mask is not None:\n",
        "            #print(\"cross_attn - inference\")\n",
        "            mask = self.make_attention_mask(q_pad_mask, kv_pad_mask, inf_shape = query.shape[-2])\n",
        "        else:\n",
        "            #print(\"none\")\n",
        "            mask = None\n",
        "\n",
        "        #print(mask)\n",
        "        #print(jnp.sum(mask))\n",
        "\n",
        "\n",
        "        attention_key, dropout_key = (\n",
        "            (None, None) if key is None else jr.split(key)\n",
        "        )\n",
        "\n",
        "        attention_output = self.attention(\n",
        "              query=query,\n",
        "              key_=key_,\n",
        "              value=value,\n",
        "              mask=mask,\n",
        "              inference=not enable_dropout,\n",
        "              key=attention_key\n",
        "        )\n",
        "\n",
        "        att_drop = self.dropout(attention_output, inference=not enable_dropout, key=dropout_key)\n",
        "\n",
        "        return att_drop"
      ],
      "metadata": {
        "id": "0PShmTm65HGC"
      },
      "execution_count": null,
      "outputs": []
    },
    {
      "cell_type": "markdown",
      "source": [
        "**MLP Block**"
      ],
      "metadata": {
        "id": "BsMLjw_gEfsK"
      }
    },
    {
      "cell_type": "code",
      "source": [
        "class FeedForwardBlock(eqx.Module):\n",
        "\n",
        "    mlp: eqx.nn.Sequential    #could also use MLP if this way is more fiddly\n",
        "    dropout: eqx.nn.Dropout\n",
        "\n",
        "    def __init__(\n",
        "        self,\n",
        "        d_model: int,\n",
        "        intermediate_size: int,\n",
        "        dropout_rate: float,\n",
        "        key: jr.PRNGKey,\n",
        "    ):\n",
        "        linear1, linear2 = jr.split(key)\n",
        "\n",
        "        self.mlp = eqx.nn.Sequential([\n",
        "            eqx.nn.Linear(in_features=d_model, out_features=intermediate_size, key=linear1),\n",
        "            Lambda(jax.nn.gelu),\n",
        "            eqx.nn.Linear(in_features=intermediate_size, out_features=d_model, key=linear2)\n",
        "        ])\n",
        "        self.dropout = eqx.nn.Dropout(dropout_rate)\n",
        "\n",
        "    def __call__(\n",
        "        self,\n",
        "        inputs: Float[Array, \"... d_model\"],\n",
        "        enable_dropout: bool = True,\n",
        "        key: Optional[jr.PRNGKey] = None,\n",
        "    ) -> Float[Array, \"seq_len d_model\"]:\n",
        "\n",
        "        feed_out = jax.vmap(self.mlp)(inputs)\n",
        "        out_d = self.dropout(feed_out, inference=not enable_dropout, key=key)\n",
        "\n",
        "        return out_d\n"
      ],
      "metadata": {
        "id": "Npn_D1FBEOTi"
      },
      "execution_count": null,
      "outputs": []
    },
    {
      "cell_type": "markdown",
      "source": [
        "**Embedding table**"
      ],
      "metadata": {
        "id": "zvVB7q4OSMvG"
      }
    },
    {
      "cell_type": "code",
      "source": [
        "class InputEmbeddings(eqx.Module):\n",
        "\n",
        "  embedding: eqx.nn.Embedding\n",
        "  d_model: int\n",
        "\n",
        "  def __init__(\n",
        "      self,\n",
        "      d_model: int,\n",
        "      vocab_size: int,\n",
        "      key: jr.PRNGKey,\n",
        "  ):\n",
        "      self.d_model = d_model\n",
        "      self.embedding = eqx.nn.Embedding(vocab_size, d_model, key=key)\n",
        "\n",
        "  def __call__(self, x) -> Float[Array, \"seq_len d_model\"]:\n",
        "\n",
        "    return self.embedding(x) * math.sqrt(self.d_model)"
      ],
      "metadata": {
        "id": "gW98v6F7qjxB"
      },
      "execution_count": null,
      "outputs": []
    },
    {
      "cell_type": "markdown",
      "source": [
        "**Positional encoding**"
      ],
      "metadata": {
        "id": "eGzfSNHsSOb4"
      }
    },
    {
      "cell_type": "code",
      "source": [
        "class SinusoidalPosEmb(eqx.Module):\n",
        "    pos_emb: jax.Array\n",
        "    dropout: eqx.nn.Dropout\n",
        "\n",
        "    def __init__(\n",
        "        self,\n",
        "        d_model: int,\n",
        "        seq_len: int,\n",
        "        dropout_rate: float\n",
        "    ):\n",
        "        self.dropout = eqx.nn.Dropout(dropout_rate)\n",
        "        half_dim = d_model//2\n",
        "        pe = jnp.zeros((seq_len, d_model))\n",
        "        position = einops.repeat(jnp.arange(0 , seq_len), \" s -> s r\", r=half_dim)  #shape [seq_len, d_model/2]\n",
        "        div_term = jnp.exp(jnp.arange(0, d_model, 2) * -(math.log(10_000) / d_model))  #shape [d_model/2]\n",
        "        ins = jax.vmap(jnp.multiply, in_axes=(1, 0), out_axes=1)(position, div_term)  #shape [seq_len, d_model/2]\n",
        "\n",
        "        pe = pe.at[:, 0::2].set(jnp.sin(ins))\n",
        "        pe = pe.at[:, 1::2].set(jnp.cos(ins))\n",
        "\n",
        "        self.pos_emb = pe\n",
        "\n",
        "    def __call__(\n",
        "        self,\n",
        "        x,\n",
        "        enable_dropout: bool = False,\n",
        "        key: \"jr.PRNGKey\" = None,\n",
        "    ) -> Float[Array, \"seq_len d_model\"]:\n",
        "\n",
        "        x = x + jax.lax.stop_gradient(self.pos_emb[:x.shape[0], :])\n",
        "\n",
        "        return self.dropout(x, inference=not enable_dropout, key=key)"
      ],
      "metadata": {
        "id": "Ua8tZGvG7pe7"
      },
      "execution_count": null,
      "outputs": []
    },
    {
      "cell_type": "markdown",
      "source": [
        "**Encoder Block**"
      ],
      "metadata": {
        "id": "kPL-N55ntQmT"
      }
    },
    {
      "cell_type": "code",
      "source": [
        "class EncoderLayer(eqx.Module):\n",
        "\n",
        "    layer_norm_1: eqx.nn.LayerNorm\n",
        "    layer_norm_2: eqx.nn.LayerNorm\n",
        "    attention_block: AttentionBlock\n",
        "    ff_block: FeedForwardBlock\n",
        "\n",
        "    def __init__(\n",
        "        self,\n",
        "        d_model: int,\n",
        "        intermediate_size: int,\n",
        "        num_heads: int,\n",
        "        dropout_rate: float,\n",
        "        attention_dropout_rate: float,\n",
        "        key: jr.PRNGKey,\n",
        "    ):\n",
        "\n",
        "        attention_key, ff_key = jr.split(key)\n",
        "\n",
        "        self.attention_block = AttentionBlock(\n",
        "            d_model=d_model,\n",
        "            num_heads=num_heads,\n",
        "            dropout_rate=dropout_rate,\n",
        "            attention_dropout_rate=attention_dropout_rate,\n",
        "            key=attention_key,\n",
        "        )\n",
        "        self.ff_block = FeedForwardBlock(\n",
        "            d_model=d_model,\n",
        "            intermediate_size=intermediate_size,\n",
        "            dropout_rate=dropout_rate,\n",
        "            key=ff_key,\n",
        "        )\n",
        "        self.layer_norm_1 = eqx.nn.LayerNorm(shape=d_model)\n",
        "        self.layer_norm_2 = eqx.nn.LayerNorm(shape=d_model)\n",
        "\n",
        "    def __call__(\n",
        "        self,\n",
        "        inputs: Float[Array, \"src_seq_len d_model\"],\n",
        "        pad_mask: Array = None,\n",
        "        *,\n",
        "        enable_dropout: bool = False,\n",
        "        key: Optional[jr.PRNGKey] = None,\n",
        "    ) -> Float[Array, \"seq_len d_model\"]:\n",
        "\n",
        "        attn_key, ff_key = (None, None) if key is None else jr.split(key)\n",
        "\n",
        "        inputs = inputs + self.attention_block(\n",
        "            inputs, inputs, inputs, q_pad_mask=pad_mask, kv_pad_mask=pad_mask, enable_dropout=enable_dropout, key=attn_key\n",
        "        )\n",
        "        inputs = jax.vmap(self.layer_norm_1)(inputs)\n",
        "\n",
        "        inputs = inputs + self.ff_block(\n",
        "            inputs, enable_dropout=enable_dropout, key=ff_key\n",
        "        )\n",
        "        inputs = jax.vmap(self.layer_norm_2)(inputs)\n",
        "\n",
        "        return inputs"
      ],
      "metadata": {
        "id": "s_zpRdXMtP9_"
      },
      "execution_count": null,
      "outputs": []
    },
    {
      "cell_type": "markdown",
      "source": [
        "**Encoder**"
      ],
      "metadata": {
        "id": "7ZDEK-86ym-_"
      }
    },
    {
      "cell_type": "code",
      "source": [
        "class Encoder(eqx.Module):\n",
        "\n",
        "    embedder_block: InputEmbeddings\n",
        "    pos_embed: SinusoidalPosEmb\n",
        "    layers: List[EncoderLayer]\n",
        "\n",
        "    def __init__(\n",
        "        self,\n",
        "        vocab_size: int,\n",
        "        d_model: int,\n",
        "        seq_len: int,\n",
        "        intermediate_size: int,\n",
        "        num_layers: int,\n",
        "        num_heads: int,\n",
        "        dropout_rate: float,\n",
        "        attention_dropout_rate: float,\n",
        "        key: jr.PRNGKey,\n",
        "    ):\n",
        "\n",
        "      embedder_key, layer_key = jr.split(key, num=2)\n",
        "\n",
        "      self.embedder_block = InputEmbeddings(\n",
        "          d_model, vocab_size, key=embedder_key\n",
        "      )\n",
        "      self.pos_embed = SinusoidalPosEmb(d_model, seq_len, dropout_rate)\n",
        "\n",
        "      layer_keys = jr.split(layer_key, num=num_layers)\n",
        "\n",
        "      self.layers = [\n",
        "          EncoderLayer(\n",
        "              d_model=d_model, intermediate_size=intermediate_size, num_heads=num_heads, dropout_rate=dropout_rate, attention_dropout_rate=attention_dropout_rate, key=layer_key,\n",
        "          )\n",
        "          for layer_key in layer_keys]\n",
        "\n",
        "    def __call__(\n",
        "          self,\n",
        "          tokens: Int[Array, \"src_seq_len\"],\n",
        "          pad_mask: Array = None,\n",
        "          *,\n",
        "          enable_dropout: bool = False,\n",
        "          key: Optional[jr.PRNGKey] = None,\n",
        "    ):\n",
        "\n",
        "          ps_emb_key, l_key = (None, None) if key is None else jr.split(key, 2)\n",
        "\n",
        "          embed_inputs = self.embedder_block(tokens)\n",
        "          x = self.pos_embed(embed_inputs, enable_dropout=enable_dropout, key=ps_emb_key)\n",
        "          for layer in self.layers:\n",
        "              cl_key, l_key = (None, None) if l_key is None else jr.split(l_key)\n",
        "\n",
        "              x = layer(x, pad_mask=pad_mask, enable_dropout=enable_dropout, key=cl_key)\n",
        "\n",
        "          return x"
      ],
      "metadata": {
        "id": "3Szh7x1sylML"
      },
      "execution_count": null,
      "outputs": []
    },
    {
      "cell_type": "markdown",
      "source": [
        "**Decoder Block**"
      ],
      "metadata": {
        "id": "7Ayup6V6FxC8"
      }
    },
    {
      "cell_type": "code",
      "source": [
        "class DecoderLayer(eqx.Module):\n",
        "\n",
        "    self_att_block: AttentionBlock\n",
        "    cross_att_block: AttentionBlock\n",
        "    ff_block: FeedForwardBlock\n",
        "    layer_norm_1: eqx.nn.LayerNorm\n",
        "    layer_norm_2: eqx.nn.LayerNorm\n",
        "    layer_norm_3: eqx.nn.LayerNorm\n",
        "\n",
        "    def __init__(\n",
        "        self,\n",
        "        d_model: int,\n",
        "        intermediate_size: int,\n",
        "        num_heads: int,\n",
        "        dropout_rate: float,\n",
        "        attention_dropout_rate: float,\n",
        "        key: jr.PRNGKey,\n",
        "    ):\n",
        "\n",
        "        self_att_key, cross_att_key, ff_key = jr.split(key, num=3)\n",
        "\n",
        "        self.self_att_block = AttentionBlock(\n",
        "            d_model=d_model,\n",
        "            num_heads=num_heads,\n",
        "            dropout_rate=dropout_rate,\n",
        "            attention_dropout_rate=attention_dropout_rate,\n",
        "            key=self_att_key,\n",
        "        )\n",
        "        self.cross_att_block = AttentionBlock(\n",
        "            d_model=d_model,\n",
        "            num_heads=num_heads,\n",
        "            dropout_rate=dropout_rate,\n",
        "            attention_dropout_rate=attention_dropout_rate,\n",
        "            key=cross_att_key,\n",
        "        )\n",
        "        self.ff_block = FeedForwardBlock(\n",
        "            d_model=d_model,\n",
        "            intermediate_size=intermediate_size,\n",
        "            dropout_rate=dropout_rate,\n",
        "            key=ff_key,\n",
        "        )\n",
        "        self.layer_norm_1 = eqx.nn.LayerNorm(shape=d_model)\n",
        "        self.layer_norm_2 = eqx.nn.LayerNorm(shape=d_model)\n",
        "        self.layer_norm_3 = eqx.nn.LayerNorm(shape=d_model)\n",
        "\n",
        "    def __call__(\n",
        "        self,\n",
        "        inputs: Float[Array, \"tgt_seq_len d_model\"],\n",
        "        encoder_output,\n",
        "        src_pad_mask: Array = None,\n",
        "        tgt_pad_mask: Array = None,   # use ... (ellipsis) to indicate variable size in annotation - can't just leave square brackets empty\n",
        "        look_ahead_mask: Optional[bool] = False,\n",
        "        *,\n",
        "        enable_dropout: bool = False,\n",
        "        key: Optional[jr.PRNGKey] = None,\n",
        "    ):\n",
        "\n",
        "        self_attn_key, cross_attn_key, ff_key = (None, None, None) if key is None else jr.split(key, num=3)\n",
        "\n",
        "        inputs = inputs + self.self_att_block(\n",
        "            inputs, inputs, inputs, q_pad_mask=tgt_pad_mask, kv_pad_mask=tgt_pad_mask, look_ahead_mask=look_ahead_mask, enable_dropout=enable_dropout, key=self_attn_key\n",
        "        )\n",
        "        inputs = jax.vmap(self.layer_norm_1)(inputs)\n",
        "\n",
        "        inputs = inputs + self.cross_att_block(\n",
        "            inputs, encoder_output, encoder_output, q_pad_mask=tgt_pad_mask, kv_pad_mask=src_pad_mask, enable_dropout=enable_dropout, key=cross_attn_key\n",
        "        )\n",
        "        inputs = jax.vmap(self.layer_norm_2)(inputs)\n",
        "\n",
        "        inputs = inputs + self.ff_block(\n",
        "            inputs, enable_dropout=enable_dropout, key=ff_key\n",
        "        )\n",
        "        inputs = jax.vmap(self.layer_norm_3)(inputs)\n",
        "\n",
        "        return inputs"
      ],
      "metadata": {
        "id": "Uefs4CKaCod6"
      },
      "execution_count": null,
      "outputs": []
    },
    {
      "cell_type": "markdown",
      "source": [
        "**Decoder**"
      ],
      "metadata": {
        "id": "nJ2NzZHgNxj2"
      }
    },
    {
      "cell_type": "code",
      "source": [
        "class Decoder(eqx.Module):\n",
        "\n",
        "    embedder_block: InputEmbeddings\n",
        "    pos_embed: SinusoidalPosEmb\n",
        "    layers: List[DecoderLayer]\n",
        "\n",
        "    def __init__(\n",
        "        self,\n",
        "        vocab_size: int,\n",
        "        d_model: int,\n",
        "        seq_len: int,\n",
        "        intermediate_size: int,\n",
        "        num_heads: int,\n",
        "        num_layers: int,\n",
        "        dropout_rate: float,\n",
        "        attention_dropout_rate: float,\n",
        "        key: jr.PRNGKey\n",
        "    ):\n",
        "        embedder_key, layer_key = jr.split(key, num=2)\n",
        "\n",
        "        self.embedder_block = InputEmbeddings(\n",
        "          d_model, vocab_size, embedder_key\n",
        "        )\n",
        "        self.pos_embed = SinusoidalPosEmb(d_model, seq_len, dropout_rate)\n",
        "        layer_keys = jr.split(layer_key, num=num_layers)\n",
        "\n",
        "        self.layers = [\n",
        "          DecoderLayer(\n",
        "              d_model=d_model, intermediate_size=intermediate_size, num_heads=num_heads, dropout_rate=dropout_rate, attention_dropout_rate=attention_dropout_rate, key=layer_key,\n",
        "          )\n",
        "          for layer_key in layer_keys]\n",
        "\n",
        "    def __call__(\n",
        "        self,\n",
        "        x: Array,\n",
        "        encoder_output: Float[Array, \"src_seq_len d_model\"],\n",
        "        src_pad_mask: Array = None,\n",
        "        tgt_pad_mask: Array = None,\n",
        "        look_ahead_mask: Optional[bool] = False,\n",
        "        *,\n",
        "        enable_dropout: bool = False,\n",
        "        key: Optional[jr.PRNGKey] = None,\n",
        "    ):\n",
        "        print\n",
        "        ps_emb_key, l_key = (None, None) if key is None else jr.split(key, 2)\n",
        "\n",
        "        embed_inputs = self.embedder_block(x)\n",
        "        x = self.pos_embed(embed_inputs, key=ps_emb_key)\n",
        "        for layer in self.layers:\n",
        "              cl_key, l_key = (None, None) if l_key is None else jr.split(l_key)\n",
        "\n",
        "              x = layer(x, encoder_output, src_pad_mask=src_pad_mask, tgt_pad_mask=tgt_pad_mask, look_ahead_mask=look_ahead_mask, enable_dropout=enable_dropout, key=cl_key)\n",
        "\n",
        "\n",
        "        return x"
      ],
      "metadata": {
        "id": "JmdNhQa5Nv9V"
      },
      "execution_count": null,
      "outputs": []
    },
    {
      "cell_type": "markdown",
      "source": [
        "**Final Layer**"
      ],
      "metadata": {
        "id": "GEM8TlL_RgQY"
      }
    },
    {
      "cell_type": "code",
      "source": [
        "class Out_Projection_Layer(eqx.Module):\n",
        "\n",
        "    proj: eqx.nn.Linear\n",
        "\n",
        "    def __init__(\n",
        "        self,\n",
        "        d_model:int,\n",
        "        vocab_size: int,\n",
        "        key: jr.PRNGKey\n",
        "    ):\n",
        "        self.proj = eqx.nn.Linear(in_features=d_model, out_features=vocab_size, key=key)\n",
        "\n",
        "    def __call__(\n",
        "        self,\n",
        "        x: Float[Array, \"tgt_seq_len d_model\"]\n",
        "    ) -> Int[Array, \"tgt_seq_len vocab_size\"]:\n",
        "        out = jax.vmap(self.proj)(x)\n",
        "\n",
        "        # return jax.nn.log_softmax(out, axis=-1) # - softmax included in CE loss\n",
        "\n",
        "        return out"
      ],
      "metadata": {
        "id": "oajMZv-cRPtN"
      },
      "execution_count": null,
      "outputs": []
    },
    {
      "cell_type": "markdown",
      "source": [
        "**Transformer**"
      ],
      "metadata": {
        "id": "-j_Sa0VLTDwP"
      }
    },
    {
      "cell_type": "code",
      "source": [
        "class Transformer(eqx.Module):\n",
        "\n",
        "    encoder: Encoder\n",
        "    decoder: Decoder\n",
        "    out_proj: Out_Projection_Layer\n",
        "\n",
        "    def __init__(\n",
        "        self,\n",
        "        config: Mapping,\n",
        "        key: jr.PRNGKey\n",
        "    ):\n",
        "\n",
        "        encoder_key, decoder_key, out_proj_key = jr.split(key, num=3)\n",
        "\n",
        "        self.encoder = Encoder(\n",
        "            vocab_size=config[\"src_vocab_size\"],\n",
        "            d_model=config[\"d_model\"],\n",
        "            seq_len=config[\"src_seq_len\"],\n",
        "            intermediate_size=config[\"intermediate_size\"],\n",
        "            num_layers=config[\"num_hidden_layers\"],\n",
        "            num_heads=config[\"num_attention_heads\"],\n",
        "            dropout_rate=config[\"hidden_dropout_prob\"],\n",
        "            attention_dropout_rate=config[\"attention_dropout_prob\"],\n",
        "            key=encoder_key,\n",
        "        )\n",
        "        self.decoder = Decoder(\n",
        "            vocab_size=config[\"tgt_vocab_size\"],\n",
        "            d_model=config[\"d_model\"],\n",
        "            seq_len=config[\"tgt_seq_len\"],\n",
        "            intermediate_size=config[\"intermediate_size\"],\n",
        "            num_layers=config[\"num_hidden_layers\"],\n",
        "            num_heads=config[\"num_attention_heads\"],\n",
        "            dropout_rate=config[\"hidden_dropout_prob\"],\n",
        "            attention_dropout_rate=config[\"attention_dropout_prob\"],\n",
        "            key=decoder_key,\n",
        "        )\n",
        "        self.out_proj = Out_Projection_Layer(\n",
        "            d_model=config[\"d_model\"],\n",
        "            vocab_size=config[\"tgt_vocab_size\"],\n",
        "            key=out_proj_key)\n",
        "\n",
        "    def __call__(\n",
        "        self,\n",
        "        src,\n",
        "        tgt,\n",
        "        src_pad_mask: Array = None,\n",
        "        tgt_pad_mask: Array = None,\n",
        "        look_ahead_mask: Array = None,\n",
        "        enable_dropout: bool = False,\n",
        "        key: Optional[jr.PRNGKey] = None\n",
        "    ):\n",
        "        enc_key, dec_key = (None, None) if key is None else jr.split(key, 2)\n",
        "\n",
        "        encoder_output = self.encoder(src, src_pad_mask, enable_dropout=enable_dropout, key=enc_key)\n",
        "        decoder_output = self.decoder(tgt, encoder_output, src_pad_mask, tgt_pad_mask, look_ahead_mask, enable_dropout=enable_dropout, key=dec_key)\n",
        "        output = self.out_proj(decoder_output)\n",
        "        return output\n",
        "\n",
        "    def encode(self,\n",
        "               src,\n",
        "               src_pad_mask: Array = None,\n",
        "               enable_dropout: bool = False,\n",
        "               key: Optional[jr.PRNGKey] = None\n",
        "    ):\n",
        "        return self.encoder(src, src_pad_mask, enable_dropout=enable_dropout, key=key)\n",
        "\n",
        "    def decode(self,\n",
        "               tgt,\n",
        "               enc_out,\n",
        "               src_pad_mask: Array = None,\n",
        "               tgt_pad_mask: Array = None,\n",
        "               look_ahead_mask:bool = True,\n",
        "               enable_dropout: bool = False,\n",
        "               key: Optional[jr.PRNGKey] = None\n",
        "    ):\n",
        "        return self.decoder(tgt, enc_out, src_pad_mask, tgt_pad_mask, look_ahead_mask, enable_dropout=enable_dropout, key=key)\n",
        "\n",
        "    def project(self, x):\n",
        "        return self.out_proj(x)"
      ],
      "metadata": {
        "id": "-z-D29cQd6EB"
      },
      "execution_count": null,
      "outputs": []
    },
    {
      "cell_type": "markdown",
      "source": [
        "## **Training**"
      ],
      "metadata": {
        "id": "CNe_Frjge_j7"
      }
    },
    {
      "cell_type": "markdown",
      "source": [
        "###### Data utility functions"
      ],
      "metadata": {
        "id": "mU6I5N68sK5g"
      }
    },
    {
      "cell_type": "markdown",
      "source": [
        "**Tokenizer**"
      ],
      "metadata": {
        "id": "34Ss-YPHrcha"
      }
    },
    {
      "cell_type": "code",
      "source": [
        "def get_or_build_tokenizer(ds, lang):\n",
        "\n",
        "    def get_all_sentences(ds, lang):\n",
        "        for item in ds:\n",
        "            yield item['translation'][lang]\n",
        "\n",
        "    tokenizer_path = Path(\"tokenizer_{0}.json\".format(lang))\n",
        "\n",
        "    if not Path.exists(tokenizer_path):\n",
        "        tokenizer = Tokenizer(WordLevel(unk_token='[UNK]'))\n",
        "        tokenizer.pre_tokenizer = Whitespace()\n",
        "        trainer = WordLevelTrainer(special_tokens=[\"[UNK]\",\"[PAD]\",\"[SOS]\",\"[EOS]\"], min_frequency=2)\n",
        "        tokenizer.train_from_iterator(get_all_sentences(ds, lang), trainer=trainer)\n",
        "        tokenizer.save(str(tokenizer_path))\n",
        "    else:\n",
        "        tokenizer = Tokenizer.from_file(str(tokenizer_path))\n",
        "    return tokenizer"
      ],
      "metadata": {
        "id": "64Ri2SWeWYxY"
      },
      "execution_count": null,
      "outputs": []
    },
    {
      "cell_type": "markdown",
      "source": [
        "**Train/Test split**"
      ],
      "metadata": {
        "id": "-KNj9vuzsO8S"
      }
    },
    {
      "cell_type": "code",
      "source": [
        "def rand_split(ds,prop, key):\n",
        "    ds_size = len(ds[\"id\"])\n",
        "    train_size = int(prop * ds_size)\n",
        "    indices = jnp.arange(ds_size)\n",
        "    perm = jr.permutation(rand_key, indices, independent=False)  # get random permutation of indices\n",
        "    train_ind = perm[:train_size]\n",
        "    val_ind = perm[train_size:]\n",
        "    train_ds = datasets.Dataset.from_dict({\"id\":[ds[\"id\"][i] for i in train_ind], \"translation\":[ds[\"translation\"][i] for i in train_ind]})\n",
        "    val_ds = datasets.Dataset.from_dict({\"id\":[ds[\"id\"][i] for i in val_ind], \"translation\":[ds[\"translation\"][i] for i in val_ind]})\n",
        "    assert (len(train_ds[\"id\"]) + len(val_ds[\"id\"])) - ds_size == 0\n",
        "    assert (len(train_ds[\"translation\"]) + len(val_ds[\"translation\"])) - ds_size == 0\n",
        "\n",
        "    return (train_ds, val_ds)"
      ],
      "metadata": {
        "id": "eGGgZPtxp8us"
      },
      "execution_count": null,
      "outputs": []
    },
    {
      "cell_type": "markdown",
      "source": [
        "**Get Dataset and train/test split**"
      ],
      "metadata": {
        "id": "NAklnFvz_0q9"
      }
    },
    {
      "cell_type": "code",
      "source": [
        "def get_ds(\n",
        "    gpt_config: dict,\n",
        "    split_key: jr.PRNGKey,\n",
        "    shorten: bool = True,\n",
        "    max_seq_len: int = None\n",
        "    ):\n",
        "\n",
        "\n",
        "    # load dataset #\n",
        "    ds_raw = load_dataset('opus_books', f'{gpt_config[\"src_lang\"]}-{gpt_config[\"tgt_lang\"]}', split='train')\n",
        "    ds_size = len(ds_raw[\"id\"])\n",
        "    assert ds_size == len(ds_raw[\"translation\"])\n",
        "\n",
        "    # tokenize input data #\n",
        "    tokenizer_src = get_or_build_tokenizer(ds_raw, gpt_config[\"src_lang\"])\n",
        "    tokenizer_tgt = get_or_build_tokenizer(ds_raw, gpt_config[\"tgt_lang\"])\n",
        "\n",
        "\n",
        "    max_len_src = 0\n",
        "    max_len_tgt = 0\n",
        "    for item in ds_raw:\n",
        "        src_ids = tokenizer_src.encode(item['translation'][gpt_config[\"src_lang\"]]).ids\n",
        "        tgt_ids = tokenizer_tgt.encode(item['translation'][gpt_config[\"tgt_lang\"]]).ids\n",
        "        max_len_src = max(max_len_src, len(src_ids))\n",
        "        max_len_tgt = max(max_len_tgt, len(tgt_ids))\n",
        "\n",
        "    print(f'Max length of source sentence: {max_len_src}')\n",
        "    print(f'Max length of target sentence: {max_len_tgt}')\n",
        "\n",
        "    if short == False:\n",
        "        max_seq_len\n",
        "\n",
        "    if shorten == True:\n",
        "        count=0\n",
        "        for item in ds_raw:\n",
        "            src_ids = tokenizer_src.encode(item['translation'][gpt_config[\"src_lang\"]]).ids\n",
        "            tgt_ids = tokenizer_tgt.encode(item['translation'][gpt_config[\"tgt_lang\"]]).ids\n",
        "            if len(src_ids) > max_seq_len or len(tgt_ids) > max_seq_len:\n",
        "                count+=1\n",
        "        print(f'Number of sentences longer than {max_seq_len} tokens: {count}')\n",
        "\n",
        "\n",
        "        # shorten training dataset #\n",
        "        short_ds_raw = {\"id\":[], \"translation\":[]}\n",
        "        for item in ds_raw:\n",
        "            src_ids = tokenizer_src.encode(item['translation'][gpt_config[\"src_lang\"]]).ids\n",
        "            tgt_ids = tokenizer_tgt.encode(item['translation'][gpt_config[\"tgt_lang\"]]).ids\n",
        "            if len(src_ids) <= max_seq_len and len(tgt_ids) <= max_seq_len:\n",
        "                short_ds_raw[\"id\"].append(item[\"id\"])\n",
        "                short_ds_raw[\"translation\"].append(item[\"translation\"])\n",
        "\n",
        "\n",
        "        max_len_src = 0\n",
        "        max_len_tgt = 0\n",
        "        for i in range(len(short_ds_raw[\"id\"])):\n",
        "            src_ids = tokenizer_src.encode(short_ds_raw['translation'][i][gpt_config[\"src_lang\"]]).ids\n",
        "            tgt_ids = tokenizer_tgt.encode(short_ds_raw['translation'][i][gpt_config[\"tgt_lang\"]]).ids\n",
        "            max_len_src = max(max_len_src, len(src_ids))\n",
        "            max_len_tgt = max(max_len_tgt, len(tgt_ids))\n",
        "\n",
        "        assert max_len_src == max_seq_len\n",
        "        assert max_len_tgt == max_seq_len\n",
        "\n",
        "        ds_size = len(short_ds_raw[\"id\"])\n",
        "        ds_raw = short_ds_raw\n",
        "\n",
        "    # train/validation split #\n",
        "    train_ds_raw, val_ds_raw = rand_split(ds_raw, gpt_config[\"train_val_split\"], split_key)   # defaults to 0.9 - 90% split of dataset\n",
        "\n",
        "    train_ds_size = len(train_ds_raw[\"id\"])\n",
        "    val_ds_size = len(val_ds_raw[\"id\"])\n",
        "\n",
        "    assert len(train_ds_raw[\"translation\"]) == train_ds_size and len(val_ds_raw[\"translation\"]) == val_ds_size\n",
        "    assert (train_ds_size + val_ds_size) == ds_size\n",
        "\n",
        "    if short==True:\n",
        "        src_seq_len = max_seq_len\n",
        "        tgt_seq_len = max_seq_len\n",
        "    else:\n",
        "        src_seq_len = max_len_src\n",
        "        tgt_seq_len = max_len_tgt\n",
        "\n",
        "    return train_ds_raw, val_ds_raw, tokenizer_src, tokenizer_tgt, ds_size, train_ds_size, val_ds_size, src_seq_len, tgt_seq_len"
      ],
      "metadata": {
        "id": "RKAeP-YG7ndS"
      },
      "execution_count": null,
      "outputs": []
    },
    {
      "cell_type": "markdown",
      "source": [
        "**Data processing**"
      ],
      "metadata": {
        "id": "GzQnL7_baLXM"
      }
    },
    {
      "cell_type": "code",
      "source": [
        "class TranslationDataset(data.Dataset):\n",
        "\n",
        "      def __init__(self, ds, tokenizer_src, tokenizer_tgt, src_lang, tgt_lang, src_seq_len, tgt_seq_len):\n",
        "          super().__init__()\n",
        "\n",
        "\n",
        "          self.src_seq_len = src_seq_len\n",
        "          self.tgt_seq_len = tgt_seq_len\n",
        "\n",
        "          self.ds = ds\n",
        "          self.tokenizer_src = tokenizer_src\n",
        "          self.tokenizer_tgt = tokenizer_tgt\n",
        "          self.src_lang = src_lang\n",
        "          self.tgt_lang = tgt_lang\n",
        "\n",
        "          self.sos_token = np.asarray([tokenizer_src.token_to_id(\"[SOS]\")], dtype=int)\n",
        "          self.eos_token = np.asarray([tokenizer_src.token_to_id(\"[EOS]\")], dtype=int)\n",
        "          self.pad_token  = np.asarray([tokenizer_src.token_to_id(\"[PAD]\")], dtype=int)\n",
        "\n",
        "      def __len__(self):\n",
        "          return len(self.ds)\n",
        "\n",
        "      def __getitem__(self, idx):\n",
        "          src_target_pair = self.ds[idx]\n",
        "\n",
        "          src_text = src_target_pair['translation'][self.src_lang]\n",
        "          tgt_text = src_target_pair['translation'][self.tgt_lang]\n",
        "\n",
        "          enc_input_tokens = self.tokenizer_src.encode(src_text).ids\n",
        "          dec_input_tokens = self.tokenizer_tgt.encode(tgt_text).ids\n",
        "\n",
        "\n",
        "          enc_num_padding_tokens = self.src_seq_len - len(enc_input_tokens) - 2\n",
        "          dec_num_padding_tokens = self.tgt_seq_len - len(dec_input_tokens) - 2   # should be -1 if not including EOS token\n",
        "          lab_num_padding_tokens = dec_num_padding_tokens + 1   # not necessary if omitting EOS token in decoder input\n",
        "\n",
        "\n",
        "          if enc_num_padding_tokens < 0 or dec_num_padding_tokens < 0:\n",
        "              raise ValueError('Sentence is too long')\n",
        "\n",
        "          # add SOS and EOS to source text\n",
        "          encoder_input = np.concatenate([\n",
        "              self.sos_token,\n",
        "              np.asarray(enc_input_tokens),\n",
        "              self.eos_token,\n",
        "              np.repeat(self.pad_token, enc_num_padding_tokens)\n",
        "          ])\n",
        "\n",
        "\n",
        "          # add SOS to decoder input - I have also added EOS token - logically makes sense as we want the decoder to predict EOS at inference time! but I have seen implementations that specifically do not include EOS in decoder training input\n",
        "          decoder_input = np.concatenate([\n",
        "              self.sos_token,\n",
        "              np.asarray(dec_input_tokens, dtype=int),\n",
        "              self.eos_token,\n",
        "              np.repeat(self.pad_token, dec_num_padding_tokens)\n",
        "          ])\n",
        "\n",
        "          # add EOS to expected decoder output\n",
        "          label = np.concatenate([\n",
        "              np.asarray(dec_input_tokens, dtype=int),\n",
        "              self.eos_token,\n",
        "              np.repeat(self.pad_token, lab_num_padding_tokens) # not dec_num\n",
        "          ])\n",
        "\n",
        "          assert encoder_input.shape[0] == self.src_seq_len\n",
        "          assert decoder_input.shape[0] == self.tgt_seq_len\n",
        "          assert label.shape[0] == self.tgt_seq_len\n",
        "\n",
        "\n",
        "          src_mask = np.expand_dims((encoder_input!= self.pad_token), axis=0)  # (1, seq_len)\n",
        "          tgt_mask = np.expand_dims((decoder_input!= self.pad_token), axis=0) # & np.asarray(causal_attention_mask(decoder_input)) # (1 seq_len) & (seq_len seq_len)\n",
        "\n",
        "          return {\n",
        "              \"encoder_input\": encoder_input,\n",
        "              \"decoder_input\": decoder_input,\n",
        "              \"src_mask\": src_mask,\n",
        "              \"tgt_mask\": tgt_mask,\n",
        "              \"label\": label,\n",
        "              \"src_text\": src_text,\n",
        "              \"tgt_text\": tgt_text,\n",
        "          }\n"
      ],
      "metadata": {
        "id": "46vKZ1kQzCFS"
      },
      "execution_count": null,
      "outputs": []
    },
    {
      "cell_type": "markdown",
      "source": [
        "###### Inference functions"
      ],
      "metadata": {
        "id": "YjlDijTsETux"
      }
    },
    {
      "cell_type": "markdown",
      "source": [
        "**Greedy decoding function**"
      ],
      "metadata": {
        "id": "8AfD212FAc_y"
      }
    },
    {
      "cell_type": "code",
      "source": [
        "def greedy_decode(\n",
        "    model,\n",
        "    tokenizer_src,\n",
        "    tokenizer_tgt,\n",
        "    max_len,\n",
        "    src,\n",
        "    src_mask\n",
        "):\n",
        "    @eqx.filter_jit\n",
        "    def decode_pass(model, encoder_output,src_mask, decoder_input):\n",
        "        out = model.decode(decoder_input, encoder_output, src_mask, look_ahead_mask=True)\n",
        "        prob = jax.nn.softmax(model.project(out), axis=-1)\n",
        "        next_word = jnp.argmax(prob[-1])\n",
        "        return next_word\n",
        "\n",
        "    sos_idx = tokenizer_tgt.token_to_id(\"[SOS]\")\n",
        "    eos_idx = tokenizer_tgt.token_to_id(\"[EOS]\")\n",
        "    encoder_output = model.encode(src, src_mask)   # This computation now gets used repeatedly\n",
        "    dec_pass = functools.partial(decode_pass, model, encoder_output, src_mask)\n",
        "    decoder_input = jnp.asarray([sos_idx])    # SOS token to start decoding\n",
        "    for i in range(max_len):\n",
        "        dec_shape = decoder_input.shape[-1]\n",
        "        next_word = dec_pass(decoder_input)\n",
        "        if next_word == eos_idx:\n",
        "            break\n",
        "        decoder_input = jnp.concatenate([decoder_input, jnp.asarray([next_word])])\n",
        "\n",
        "    return decoder_input"
      ],
      "metadata": {
        "id": "dCjSlQk7LIJ-"
      },
      "execution_count": null,
      "outputs": []
    },
    {
      "cell_type": "markdown",
      "source": [
        "**Validation/Accuracy function**"
      ],
      "metadata": {
        "id": "n0olfN6YJoR5"
      }
    },
    {
      "cell_type": "code",
      "source": [
        "def accuracy(model, input, tokenizer_tgt, max_len):\n",
        "    inf_model = eqx.tree_inference(model, value=True)\n",
        "    encoder_input = jnp.squeeze(jnp.asarray(input[\"encoder_input\"], dtype=int), axis = 0)\n",
        "    src_mask = jnp.squeeze(jnp.asarray(input[\"src_mask\"]), axis = 0)\n",
        "\n",
        "    model_output = greedy_decode(inf_model, tokenizer_src, tokenizer_tgt, max_len, encoder_input, src_mask)\n",
        "\n",
        "    predicted = str(tokenizer_tgt.decode(model_output))\n",
        "    expected = input[\"tgt_text\"][0]\n",
        "\n",
        "    #print(predicted, expected)\n",
        "    metric1 = WordErrorRate()\n",
        "    lossWER = metric1(predicted, expected)\n",
        "\n",
        "    metric2 = CharErrorRate()\n",
        "    lossCER = metric2(predicted, expected)\n",
        "\n",
        "    metric3 = BLEUScore()\n",
        "    lossBS = metric3(predicted, expected)\n",
        "\n",
        "    return float(lossWER), float(lossCER), float(lossBS)"
      ],
      "metadata": {
        "id": "i1UISk6KZHsn"
      },
      "execution_count": null,
      "outputs": []
    },
    {
      "cell_type": "markdown",
      "source": [
        "###### Training functions"
      ],
      "metadata": {
        "id": "KlRQZ2SeEYoR"
      }
    },
    {
      "cell_type": "markdown",
      "source": [
        "**Loss function** - *with label smoothing*"
      ],
      "metadata": {
        "id": "jqAMKdJrGKlC"
      }
    },
    {
      "cell_type": "code",
      "source": [
        "def compute_loss(model, encoder_inputs, src_masks, decoder_inputs, tgt_masks, labels, key):   # key\n",
        "    batch_size = gpt_config[\"batch_size\"]    # encoder_inputs.shape[0]\n",
        "    batch_keys = jr.split(key, num=batch_size)\n",
        "\n",
        "    model_output = jax.vmap(model, in_axes=(0, 0, 0, 0, None, None, 0))(encoder_inputs, decoder_inputs, src_masks, tgt_masks, True, True, batch_keys)\n",
        "\n",
        "    output = einops.rearrange(model_output, \"b s v -> (b s) v\") # , b=batch_size, s = proj_output[1], tokenizer_tgt.get_vocab_size())\n",
        "    labels = einops.rearrange(labels, \" b s -> (b s)\")\n",
        "\n",
        "    pad_pos = tokenizer_tgt.token_to_id(\"[PAD]\")\n",
        "\n",
        "    oh_labels = jax.nn.one_hot(labels, tokenizer_tgt.get_vocab_size())\n",
        "    oh_labels = oh_labels.at[:, pad_pos].set(0.)  # unnecessary step but useful if I want to get rid of \"label smoothing\"\n",
        "\n",
        "    s_labels = optax.smooth_labels(oh_labels, alpha=0.1)  # label smoothing\n",
        "\n",
        "    s_labels = s_labels.at[:, pad_pos].set(0.)   # set all \"vertical\" padding tokens to one i.e. all possible alternatives to 0 (this wouldn't be necessary with no label smoothing - redundacy yet)\n",
        "    mask = jnp.asarray(labels == pad_pos) # T/F - true/false mask\n",
        "    new_labels = jax.vmap(jnp.where, in_axes=(0,None, 0))(mask, 0., s_labels)  # so padding token is zero vertically but also entire rows of the paddding tokens are zero (think cross in a way)\n",
        "    pad_mask = jnp.where(labels==pad_pos, 0., 1.)  # 1/0  - useful for working out number of non-padding tokens\n",
        "\n",
        "    output=output.at[:, pad_pos].set(-1e4)  #or -jnp.inf - for model output, ensure for every prediction that the padding token is set as negative possible for getting zero probability in the softmax\n",
        "\n",
        "    loss = optax.softmax_cross_entropy(logits=output, labels=new_labels)  #compute cross entropy loss\n",
        "\n",
        "    return jnp.sum(loss)/jnp.sum(pad_mask)  # calculate mean of non padding tokens only!"
      ],
      "metadata": {
        "id": "I_gQhlHJF_4_"
      },
      "execution_count": null,
      "outputs": []
    },
    {
      "cell_type": "markdown",
      "source": [
        "**Update step**"
      ],
      "metadata": {
        "id": "tN-nLM71GIbS"
      }
    },
    {
      "cell_type": "code",
      "source": [
        "@eqx.filter_jit\n",
        "def make_step(model, encoder_inputs, encoder_masks, decoder_inputs, decoder_masks, labels, opt_state, opt_update, key):  # key\n",
        "    key, new_key = jr.split(key)\n",
        "    loss_fn = eqx.filter_value_and_grad(compute_loss)\n",
        "    loss, grads = loss_fn(model, encoder_inputs, encoder_masks, decoder_inputs, decoder_masks, labels, key) # key\n",
        "    updates, opt_state = opt_update(grads, opt_state)\n",
        "    model = eqx.apply_updates(model, updates)\n",
        "\n",
        "    return loss, model, opt_state, new_key"
      ],
      "metadata": {
        "id": "K3mMjBMJGIbS"
      },
      "execution_count": null,
      "outputs": []
    },
    {
      "cell_type": "markdown",
      "source": [
        "**Model initialisation** - *Including custom Xavier uniform initialisation*"
      ],
      "metadata": {
        "id": "LdyOcw7xGIbS"
      }
    },
    {
      "cell_type": "code",
      "source": [
        "# weight initialiser #\n",
        "def xavier_init(param: jax.Array, key = jr.PRNGKey) -> jax.Array:\n",
        "    initialiser = jax.nn.initializers.glorot_uniform()\n",
        "    params = initialiser(key, param.shape)\n",
        "    return params\n",
        "\n",
        "# bias initialiser #\n",
        "def xavier_init_b(param: jax.Array, key = jr.PRNGKey) -> jax.Array:\n",
        "    initialiser = jax.nn.initializers.glorot_uniform()\n",
        "    params = initialiser(key, (1, param.shape[0]))\n",
        "    params = jnp.squeeze(params, axis=0)\n",
        "    return params\n",
        "\n",
        "# initiliase custom model parameters #\n",
        "def init_parameters(model, init_fn, init_fn_b, key):\n",
        "\n",
        "    wkey, bkey, ekey = jr.split(key, 3)\n",
        "\n",
        "    is_linear = lambda x: isinstance(x, eqx.nn.Linear)\n",
        "\n",
        "    get_weights = lambda m: [x.weight for x in jax.tree_util.tree_leaves(m, is_leaf=is_linear) if is_linear(x)]\n",
        "    weights = get_weights(model)\n",
        "    new_weights = [init_fn(weight, subkey) for weight, subkey in zip(weights, jr.split(wkey, len(weights)))]\n",
        "    model_w = eqx.tree_at(get_weights, model, new_weights)\n",
        "\n",
        "    get_biases = lambda m: [x.bias for x in jax.tree_util.tree_leaves(m, is_leaf=is_linear) if is_linear(x)]\n",
        "    biases = get_biases(model_w)\n",
        "    new_biases = [init_fn_b(bias, subkey) for bias, subkey in zip(biases, jr.split(bkey, len(biases)))]\n",
        "    model_wb = eqx.tree_at(get_biases, model_w, new_biases)\n",
        "\n",
        "    is_embedding = lambda x: isinstance(x, eqx.nn.Embedding)\n",
        "\n",
        "    get_embs = lambda m: [x.weight for x in jax.tree_util.tree_leaves(m, is_leaf=is_embedding) if is_embedding(x)]\n",
        "    embs = get_embs(model_wb)\n",
        "    new_embs = [init_fn(embedding, subkey) for embedding, subkey in zip(embs, jr.split(ekey, len(embs)))]\n",
        "    new_model = eqx.tree_at(get_embs, model_wb, new_embs)\n",
        "\n",
        "    return new_model"
      ],
      "metadata": {
        "id": "ZWJgnyFlGIbS"
      },
      "execution_count": null,
      "outputs": []
    },
    {
      "cell_type": "code",
      "source": [
        "def xav_init_model(gpt_config: dict, r_init_key: jr.PRNGKey, c_init_key: jr.PRNGKey)\n",
        "    # custom model initialisation #\n",
        "    init_model = Transformer(gpt_config, r_init_key)\n",
        "    model = init_parameters(init_model, xavier_init, xavier_init_b, c_init_key)\n",
        "    return model"
      ],
      "metadata": {
        "id": "_zX59VhvAt32"
      },
      "execution_count": null,
      "outputs": []
    },
    {
      "cell_type": "markdown",
      "source": [
        "###### Training Loop"
      ],
      "metadata": {
        "id": "L0ANI1jGEcWh"
      }
    },
    {
      "cell_type": "markdown",
      "source": [
        "**Train model**"
      ],
      "metadata": {
        "id": "DAH_1fvI_6-U"
      }
    },
    {
      "cell_type": "code",
      "source": [
        "def train_transformer(\n",
        "    d_model: int = 512,\n",
        "    num_hidden_layers: int = 6,\n",
        "    num_attention_heads: int = 8,\n",
        "    intermediate_size: int = 2048,\n",
        "    src_lang: str = \"en\",\n",
        "    tgt_lang: str = \"fr\",\n",
        "    epochs: int = 10,\n",
        "    batch_size: int = 32,\n",
        "    learning_rate: float = 1e-4,\n",
        "    train_val_split: float = 0.9,\n",
        "    short: bool: False,\n",
        "    max_seq_len: int = None,\n",
        "    save: bool = False):\n",
        "\n",
        "    gpt_config = {\n",
        "        \"src_vocab_size\": int,\n",
        "        \"tgt_vocab_size\": int,\n",
        "        \"src_seq_len\": int,\n",
        "        \"tgt_seq_len\": int,\n",
        "        \"d_model\": d_model,\n",
        "        \"num_hidden_layers\": num_hidden_layers,\n",
        "        \"num_attention_heads\": num_attention_heads,\n",
        "        \"intermediate_size\": intermediate_size,\n",
        "        \"hidden_dropout_prob\": 0.1,\n",
        "        \"attention_dropout_prob\": 0.1,\n",
        "        \"src_lang\": src_lang,\n",
        "        \"tgt_lang\": tgt_lang,\n",
        "        \"epochs\": epochs,\n",
        "        \"batch_size\": batch_size,\n",
        "        \"learning_rate\": learning_rate,\n",
        "        \"train_ds_size\": int,\n",
        "        \"val_batch_size\":1,\n",
        "        \"train_val_split\": train_val_split,\n",
        "    }\n",
        "\n",
        "    train_key, loader_key, split_key, r_init_key, c_init_key, val_key = jr.split(rand_key, 6)  #check right no. keys!!!!\n",
        "    train_ds_raw, val_ds_raw, tokenizer_src, tokenizer_tgt, ds_size, train_ds_size, val_ds_size, src_seq_len, tgt_seq_len  = get_ds(gpt_config, split_key, short=True, max_seq_len)\n",
        "\n",
        "\n",
        "\n",
        "    # update gpt configuration #\n",
        "    new_config = {\n",
        "        \"src_vocab_size\": tokenizer_src.get_vocab_size(),\n",
        "        \"tgt_vocab_size\": tokenizer_tgt.get_vocab_size(),\n",
        "        \"src_seq_len\": src_seq_len + 5,\n",
        "        \"tgt_seq_len\": tgt_seq_len + 5,\n",
        "        \"train_ds_size\": train_ds_size\n",
        "        }\n",
        "    gpt_config.update(new_config)\n",
        "\n",
        "\n",
        "    train_ds = TranslationDataset(train_ds_raw, tokenizer_src, tokenizer_tgt, gpt_config[\"src_lang\"], gpt_config[\"tgt_lang\"], gpt_config[\"src_seq_len\"], gpt_config[\"tgt_seq_len\"])\n",
        "    val_ds = TranslationDataset(val_ds_raw, tokenizer_src, tokenizer_tgt, gpt_config[\"src_lang\"], gpt_config[\"tgt_lang\"], gpt_config[\"src_seq_len\"], gpt_config[\"tgt_seq_len\"])\n",
        "\n",
        "    train_dataloader = data.DataLoader(train_ds, batch_size=gpt_config[\"batch_size\"], shuffle=True, drop_last=True)\n",
        "    val_dataloader = data.DataLoader(val_ds, batch_size=gpt_config[\"val_batch_size\"], shuffle=True, drop_last=True)\n",
        "\n",
        "    model = xav_init_model(gpt_config, r_init_key, c_init_key)\n",
        "\n",
        "    # setup optax #\n",
        "    opt = optax.inject_hyperparams(optax.adam)(learning_rate = optax.warmup_cosine_decay_schedule(\n",
        "        init_value=1e-9,\n",
        "        peak_value=1e-3,\n",
        "        warmup_steps = math.floor((gpt_config[\"train_ds_size\"]//gpt_config[\"batch_size\"]) * gpt_config[\"epochs\"] * 0.075),\n",
        "        decay_steps = math.floor((gpt_config[\"train_ds_size\"]//gpt_config[\"batch_size\"]) * gpt_config[\"epochs\"] * 0.925),\n",
        "        end_value = 2e-4)  # min value (alpha) for cosine schedule is alpha = end_value / peak_value - lr will stay constant after reaching this scalar value\n",
        "    )\n",
        "\n",
        "    # opt = optax.adam(learning_rate=gpt_config[\"learning_rate\"])\n",
        "\n",
        "    opt = optax.chain(optax.clip_by_global_norm(1.0), opt)\n",
        "\n",
        "    opt_state = opt.init(eqx.filter(model, eqx.is_inexact_array))\n",
        "\n",
        "    # training loop #\n",
        "    train_loss = {}   # for graphing training loss and validation loss\n",
        "    val_loss = {}\n",
        "    epochs = gpt_config[\"epochs\"]\n",
        "    ocr = 0.2   # % of steps that we want to validate the model\n",
        "    num_steps = math.floor(gpt_config[\"train_ds_size\"]//gpt_config[\"batch_size\"] * ocr)\n",
        "    curr_state = 0 # this is the state pertaining to validation\n",
        "    v_ds = iter(val_dataloader)\n",
        "    for epoch in range(epochs):\n",
        "        with tqdm.tqdm(\n",
        "            train_dataloader,\n",
        "            total = gpt_config[\"train_ds_size\"]//gpt_config[\"batch_size\"],\n",
        "            unit = \"steps\",\n",
        "            desc = f\"Epoch {epoch+1}/{epochs}\",\n",
        "        ) as tqdm_epoch:\n",
        "            for data in tqdm_epoch:\n",
        "\n",
        "                encoder_input = jnp.asarray(data[\"encoder_input\"], dtype=int)\n",
        "                src_mask = jnp.asarray(data[\"src_mask\"])\n",
        "                decoder_input = jnp.asarray(data[\"decoder_input\"], dtype=int)\n",
        "                tgt_mask = jnp.asarray(data[\"tgt_mask\"])\n",
        "                label = jnp.asarray(data[\"label\"])\n",
        "\n",
        "\n",
        "                tr_loss, model, opt_state, train_key = make_step(model, encoder_input, src_mask, decoder_input, tgt_mask, label, opt_state, opt.update, train_key)\n",
        "\n",
        "                if curr_state % num_steps == 0:\n",
        "                    w_l, c_l, BS_l = accuracy(model, next(v_ds), tokenizer_tgt, max_len = gpt_config[\"tgt_seq_len\"])\n",
        "\n",
        "\n",
        "                tqdm_epoch.set_postfix(loss = tr_loss, word_error=w_l, character_error=c_l, BLEUScore=BS_l)\n",
        "                curr_state += 1\n",
        "\n",
        "            loader_key = jr.split(loader_key, 1)[0]\n",
        "            train_loss[epoch]=tr_loss\n",
        "            val_loss[epoch]=w_l\n",
        "\n",
        "    if save == True:\n",
        "        # save model #\n",
        "        eqx.tree_serialise_leaves(\"EnFr2nd.eqx\", model)\n",
        "        shutil.copy('/content/EnFr2nd.eqx','/content/gdrive/MyDrive/Colab_Notebooks')\n",
        "\n",
        "        # save train and validation loss #\n",
        "        with open('/content/EnFr2nd_train_loss.pkl', 'wb') as file:\n",
        "            dump(train_loss, file)\n",
        "        shutil.copy('/content/EnFr2nd_train_loss.pkl','/content/gdrive/MyDrive/Colab_Notebooks')\n",
        "\n",
        "        with open('/content/EnFr2nd_val_loss.pkl', 'wb') as file:\n",
        "            dump(train_loss, file)\n",
        "        shutil.copy('/content/EnFr2nd_val_loss.pkl','/content/gdrive/MyDrive/Colab_Notebooks')\n",
        "\n",
        "\n",
        "    return model, train_loss, val_loss"
      ],
      "metadata": {
        "id": "yvz0i8LV_bzr"
      },
      "execution_count": null,
      "outputs": []
    },
    {
      "cell_type": "code",
      "source": [
        "# test saving works #\n",
        "empty_array = jnp.array(())\n",
        "with open('./pls_del.pkl', 'wb') as file:\n",
        "    dump(empty_array, file)\n",
        "shutil.copy('/content/pls_del.pkl','/content/gdrive/MyDrive/Colab_Notebooks')"
      ],
      "metadata": {
        "id": "5vAAB194Go-q"
      },
      "execution_count": null,
      "outputs": []
    },
    {
      "cell_type": "code",
      "source": [
        "# train model #\n",
        "model, train_loss, val_loss = train_transformer()"
      ],
      "metadata": {
        "id": "zQr8TQ-3EhOZ"
      },
      "execution_count": null,
      "outputs": []
    },
    {
      "cell_type": "markdown",
      "source": [
        "###### Misc"
      ],
      "metadata": {
        "id": "9-eXriEyEpFr"
      }
    },
    {
      "cell_type": "markdown",
      "source": [
        "**Load saved model**"
      ],
      "metadata": {
        "id": "1NOYXoolD46R"
      }
    },
    {
      "cell_type": "code",
      "source": [
        "model = Transformer(gpt_config, r_init_key)\n",
        "loaded_model = eqx.tree_deserialise_leaves('/content/gdrive/MyDrive/Colab_Notebooks/EnFrVanilla.eqx', model)"
      ],
      "metadata": {
        "id": "AmqC789RkrcM"
      },
      "execution_count": null,
      "outputs": []
    },
    {
      "cell_type": "markdown",
      "source": [
        "**Load train or validation loss data**"
      ],
      "metadata": {
        "id": "PEQnc_4nkfWU"
      }
    },
    {
      "cell_type": "code",
      "source": [
        "# = load(open('gdrive/MyDrive/Colab_Notebooks/\"...\" ', 'rb')) - insert file name in ellipsis location"
      ],
      "metadata": {
        "id": "G5uOTYvisuFk"
      },
      "execution_count": null,
      "outputs": []
    },
    {
      "cell_type": "markdown",
      "source": [
        "**Plot loss curve**"
      ],
      "metadata": {
        "id": "VlFLyH9Mjuxm"
      }
    },
    {
      "cell_type": "code",
      "source": [
        "epcs = jnp.arange(1, epochs+1, step=1)\n",
        "plt.plot(epcs, train_loss.values(), label='Training loss')\n",
        "plt.plot(epcs, val_loss.values(), label='Validation loss')\n",
        "\n",
        "plt.title('Training Loss and Validation loss')\n",
        "plt.xlabel('Epochs')\n",
        "plt.ylabel('Loss')\n",
        "\n",
        "plt.xticks(jnp.arange(0, epochs+1, steps=2))\n",
        "\n",
        "plt.legend(loc='best')\n",
        "plt.show()"
      ],
      "metadata": {
        "colab": {
          "base_uri": "https://localhost:8080/",
          "height": 472
        },
        "id": "gJcfYzdvjyCt",
        "outputId": "d345d80a-9778-4cb4-8ce4-9d95c1dcefcf"
      },
      "execution_count": null,
      "outputs": [
        {
          "output_type": "display_data",
          "data": {
            "text/plain": [
              "<Figure size 640x480 with 1 Axes>"
            ],
            "image/png": "[encoded data removed]"
          },
          "metadata": {}
        }
      ]
    },
    {
      "cell_type": "markdown",
      "source": [
        "**Translate custom string**"
      ],
      "metadata": {
        "id": "nSWMTylqD_M_"
      }
    },
    {
      "cell_type": "code",
      "source": [
        "def translate(string: str):\n",
        "\n",
        "    #string = str(string)\n",
        "\n",
        "    inference_model = eqx.tree_inference(loaded_model, value=True)\n",
        "\n",
        "    sos_token = jnp.asarray([tokenizer_src.token_to_id(\"[SOS]\")], dtype=int)\n",
        "    eos_token = jnp.asarray([tokenizer_src.token_to_id(\"[EOS]\")], dtype=int)\n",
        "    pad_token  = jnp.asarray([tokenizer_src.token_to_id(\"[PAD]\")], dtype=int)\n",
        "\n",
        "    enc_input_tokens = tokenizer_src.encode(string).ids\n",
        "\n",
        "    enc_num_padding_tokens = gpt_config[\"src_seq_len\"] - len(enc_input_tokens) - 2\n",
        "\n",
        "    if enc_num_padding_tokens < 0:\n",
        "        raise ValueError('Sentence is too long')\n",
        "\n",
        "\n",
        "    encoder_input = jnp.concatenate([\n",
        "        sos_token,\n",
        "        jnp.asarray(enc_input_tokens),\n",
        "        eos_token,\n",
        "        jnp.repeat(pad_token, enc_num_padding_tokens)\n",
        "    ])\n",
        "\n",
        "    assert encoder_input.shape[0] == gpt_config[\"src_seq_len\"]\n",
        "    encoder_mask = jnp.expand_dims((encoder_input!= pad_token), axis=0)\n",
        "\n",
        "    encoder_input = jnp.asarray(encoder_input)\n",
        "    encoder_mask = jnp.asarray(encoder_mask)\n",
        "    model_output = greedy_decode(inference_model, encoder_input, encoder_mask, tokenizer_src, tokenizer_tgt, max_len=50)\n",
        "\n",
        "    print(f'PREDICTED: {tokenizer_tgt.decode(model_output)}')"
      ],
      "metadata": {
        "id": "edaU7ExhICUo"
      },
      "execution_count": null,
      "outputs": []
    },
    {
      "cell_type": "code",
      "source": [
        "translate('I will go home tomorrow, but I think I will arrive late.')"
      ],
      "metadata": {
        "colab": {
          "base_uri": "https://localhost:8080/"
        },
        "id": "rS1mfqS630sG",
        "outputId": "b1d81a7e-b5f5-413e-957f-067578171988"
      },
      "execution_count": null,
      "outputs": [
        {
          "output_type": "stream",
          "name": "stdout",
          "text": [
            "PREDICTED: Je rentre chez lui , mais je crois que je arrivera tard .\n"
          ]
        }
      ]
    },
    {
      "cell_type": "markdown",
      "source": [
        "## Attention Visualisation"
      ],
      "metadata": {
        "id": "AnvBAS6y90Jm"
      }
    },
    {
      "cell_type": "code",
      "source": [],
      "metadata": {
        "id": "hs0v8JZc_Vjh"
      },
      "execution_count": null,
      "outputs": []
    }
  ]
}